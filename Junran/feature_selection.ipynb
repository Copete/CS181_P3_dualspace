{
 "cells": [
  {
   "cell_type": "code",
   "execution_count": 83,
   "metadata": {},
   "outputs": [],
   "source": [
    "import csv\n",
    "import itertools\n",
    "import numpy as np\n",
    "import pandas as pd\n",
    "import matplotlib.pyplot as plt\n",
    "import librosa\n",
    "from sklearn.ensemble import RandomForestClassifier\n",
    "from sklearn.neighbors import KNeighborsClassifier\n",
    "from sklearn.cross_validation import cross_val_score"
   ]
  },
  {
   "cell_type": "code",
   "execution_count": 13,
   "metadata": {},
   "outputs": [],
   "source": [
    "SAMPLE_RATE = 22050\n",
    "labels = np.array(['air_conditioner', 'car_horn', 'children_playing', 'dog_bark', 'drilling', 'engine_idling', 'gun_shot', 'jackhammer', 'siren', 'street_music'])"
   ]
  },
  {
   "cell_type": "markdown",
   "metadata": {},
   "source": [
    "### Load Data"
   ]
  },
  {
   "cell_type": "code",
   "execution_count": 9,
   "metadata": {},
   "outputs": [],
   "source": [
    "# mfcc0 40, chroma 12, mel 7, contrast 128, tonnetz 6\n",
    "# chunksize = 200\n",
    "# n_chunks = 0\n",
    "\n",
    "# X_train = np.empty((0, 386))\n",
    "# y_train = np.empty((0, 1), dtype=int)\n",
    "\n",
    "# for df in pd.read_csv('./train.csv', header=None, chunksize=chunksize):\n",
    "#     n_chunks += 1\n",
    "#     print 'Chunk #', n_chunks\n",
    "    \n",
    "#     X_train0 = df.values[:, :-1]\n",
    "#     y_train0 = df.values[:, -1].reshape(-1, 1).astype(int)\n",
    "    \n",
    "#     mfcc = np.array([np.mean(librosa.feature.mfcc(y=x, sr=SAMPLE_RATE, n_mfcc=40).T, axis=0) for x in X_train0])\n",
    "#     mfcc_std = np.array([np.std(librosa.feature.mfcc(y=x, sr=SAMPLE_RATE, n_mfcc=40).T, axis=0) for x in X_train0])\n",
    "#     chroma = np.array([np.mean(librosa.feature.chroma_stft(S=np.abs(librosa.stft(x)), sr=SAMPLE_RATE).T, axis=0) for x in X_train0])\n",
    "#     chroma_std = np.array([np.std(librosa.feature.chroma_stft(S=np.abs(librosa.stft(x)), sr=SAMPLE_RATE).T, axis=0) for x in X_train0])\n",
    "#     contrast = np.array([np.mean(librosa.feature.spectral_contrast(S=np.abs(librosa.stft(x)), sr=SAMPLE_RATE).T, axis=0) for x in X_train0])\n",
    "#     contrast_std = np.array([np.std(librosa.feature.spectral_contrast(S=np.abs(librosa.stft(x)), sr=SAMPLE_RATE).T, axis=0) for x in X_train0])\n",
    "#     mel = np.array([np.mean(librosa.feature.melspectrogram(x, sr=SAMPLE_RATE).T, axis=0) for x in X_train0])\n",
    "#     mel_std = np.array([np.std(librosa.feature.melspectrogram(x, sr=SAMPLE_RATE).T, axis=0) for x in X_train0])\n",
    "#     tonnetz = np.array([np.mean(librosa.feature.tonnetz(y=librosa.effects.harmonic(x), sr=SAMPLE_RATE).T, axis=0) for x in X_train0])\n",
    "#     tonnetz_std = np.array([np.std(librosa.feature.tonnetz(y=librosa.effects.harmonic(x), sr=SAMPLE_RATE).T, axis=0) for x in X_train0])\n",
    "#     feature0 = np.hstack([mfcc, mfcc_std, chroma_std, chroma_std, mel, mel_std, contrast, contrast_std, tonnetz, tonnetz_std])\n",
    "#     print mfcc.shape, chroma.shape, contrast.shape, mel.shape, tonnetz.shape, feature0.shape\n",
    "    \n",
    "#     X_train = np.vstack([X_train, feature0])\n",
    "#     y_train =  y_train0 if n_chunks == 1 else np.vstack([y_train, y_train0])\n",
    "#     print X_train.shape[0], 'samples'\n",
    "    \n",
    "# np.save('x_train.csv.npy', X_train)\n",
    "# np.save('y_train.csv.npy', y_train)"
   ]
  },
  {
   "cell_type": "code",
   "execution_count": 8,
   "metadata": {},
   "outputs": [],
   "source": [
    "# chunksize = 200\n",
    "# n_chunks = 0\n",
    "# outputfile = open('x_test.csv.npy', 'a')\n",
    "\n",
    "# X_test = np.empty((0, 386))\n",
    "# # mfcc0 40, chroma 12, mel 7, contrast 128, tonnetz 6\n",
    "# for df in pd.read_csv('./test.csv', header=None, chunksize=chunksize):\n",
    "#     n_chunks += 1\n",
    "#     print 'Chunk #', n_chunks\n",
    "    \n",
    "#     X_test0 = df.values[:, 1:]\n",
    "#     print X_test0.shape\n",
    "    \n",
    "#     mfcc = np.array([np.mean(librosa.feature.mfcc(y=x, sr=SAMPLE_RATE, n_mfcc=40).T, axis=0) for x in X_test0])\n",
    "#     mfcc_std = np.array([np.std(librosa.feature.mfcc(y=x, sr=SAMPLE_RATE, n_mfcc=40).T, axis=0) for x in X_test0])\n",
    "#     chroma = np.array([np.mean(librosa.feature.chroma_stft(S=np.abs(librosa.stft(x)), sr=SAMPLE_RATE).T, axis=0) for x in X_test0])\n",
    "#     chroma_std = np.array([np.std(librosa.feature.chroma_stft(S=np.abs(librosa.stft(x)), sr=SAMPLE_RATE).T, axis=0) for x in X_test0])\n",
    "#     contrast = np.array([np.mean(librosa.feature.spectral_contrast(S=np.abs(librosa.stft(x)), sr=SAMPLE_RATE).T, axis=0) for x in X_test0])\n",
    "#     contrast_std = np.array([np.std(librosa.feature.spectral_contrast(S=np.abs(librosa.stft(x)), sr=SAMPLE_RATE).T, axis=0) for x in X_test0])\n",
    "#     mel = np.array([np.mean(librosa.feature.melspectrogram(x, sr=SAMPLE_RATE).T, axis=0) for x in X_test0])\n",
    "#     mel_std = np.array([np.std(librosa.feature.melspectrogram(x, sr=SAMPLE_RATE).T, axis=0) for x in X_test0])\n",
    "#     tonnetz = np.array([np.mean(librosa.feature.tonnetz(y=librosa.effects.harmonic(x), sr=SAMPLE_RATE).T, axis=0) for x in X_test0])\n",
    "#     tonnetz_std = np.array([np.std(librosa.feature.tonnetz(y=librosa.effects.harmonic(x), sr=SAMPLE_RATE).T, axis=0) for x in X_test0])\n",
    "#     feature0 = np.hstack([mfcc, mfcc_std, chroma_std, chroma_std, mel, mel_std, contrast, contrast_std, tonnetz, tonnetz_std])\n",
    "#     print mfcc0.shape, chroma.shape, contrast.shape, mel.shape, tonnetz.shape, feature0.shape\n",
    "    \n",
    "#     X_test = np.vstack([X_test, feature0])\n",
    "#     print X_test.shape[0], 'samples'\n",
    "    \n",
    "# np.save('x_test.csv.npy', X_test)\n",
    "# outputfile.close()"
   ]
  },
  {
   "cell_type": "code",
   "execution_count": 24,
   "metadata": {},
   "outputs": [
    {
     "data": {
      "text/plain": [
       "((6325L, 386L), (6325L, 1L))"
      ]
     },
     "execution_count": 24,
     "metadata": {},
     "output_type": "execute_result"
    }
   ],
   "source": [
    "X_train = np.load('x_train.csv.npy')\n",
    "y_train = np.load('y_train.csv.npy')\n",
    "X_train.shape, y_train.shape"
   ]
  },
  {
   "cell_type": "code",
   "execution_count": 7,
   "metadata": {},
   "outputs": [],
   "source": [
    "# mfcc0 40, chroma 12, mel 7, contrast 128, tonnetz 6\n",
    "X_train_mfcc = X_train[:, :40]\n",
    "X_train_mfcc_std = X_train[:, 40: 80]\n",
    "X_train_chroma = X_train[:, 80: 92]\n",
    "X_train_chroma_std = X_train[:, 92: 104]\n",
    "X_train_mel = X_train[:, 104: 111]\n",
    "X_train_mel_std = X_train[:, 111: 118]\n",
    "X_train_contrast = X_train[:, 118: 246]\n",
    "X_train_contrast_std = X_train[:, 246: 374]\n",
    "X_train_tonnetz = X_train[:, 374: 380]\n",
    "X_train_tonnetz_std = X_train[:, 380: 386]"
   ]
  },
  {
   "cell_type": "code",
   "execution_count": 39,
   "metadata": {},
   "outputs": [],
   "source": [
    "# mfcc0 40, chroma 12, mel 7, contrast 128, tonnetz 6\n",
    "X_test_mfcc = X_test[:, :40]\n",
    "X_test_mfcc_std = X_test[:, 40: 80]\n",
    "X_test_chroma = X_test[:, 80: 92]\n",
    "X_test_chroma_std = X_test[:, 92: 104]\n",
    "X_test_mel = X_test[:, 104: 111]\n",
    "X_test_mel_std = X_test[:, 111: 118]\n",
    "X_test_contrast = X_test[:, 118: 246]\n",
    "X_test_contrast_std = X_test[:, 246: 374]\n",
    "X_test_tonnetz = X_test[:, 374: 380]\n",
    "X_test_tonnetz_std = X_test[:, 380: 386]"
   ]
  },
  {
   "cell_type": "code",
   "execution_count": 20,
   "metadata": {},
   "outputs": [],
   "source": [
    "y_train_one_hot = np.zeros((len(y_train), len(labels)))\n",
    "y_train_flattened = y_train.flatten()\n",
    "y_train_one_hot[np.arange(len(y_train_flattened)), y_train_flattened] = 1"
   ]
  },
  {
   "cell_type": "code",
   "execution_count": 10,
   "metadata": {},
   "outputs": [],
   "source": [
    "X_test = np.load('x_test.csv.npy')"
   ]
  },
  {
   "cell_type": "markdown",
   "metadata": {},
   "source": [
    "### Random Forest"
   ]
  },
  {
   "cell_type": "code",
   "execution_count": 62,
   "metadata": {},
   "outputs": [],
   "source": [
    "X_train_tmp = X_train"
   ]
  },
  {
   "cell_type": "code",
   "execution_count": 63,
   "metadata": {},
   "outputs": [
    {
     "name": "stdout",
     "output_type": "stream",
     "text": [
      "MAX_DEPTH:  5 N_ESTIMATORS:  50 \tAccuracy: 0.88253 (+/- 0.01413)\n",
      "MAX_DEPTH:  5 N_ESTIMATORS:  70 \tAccuracy: 0.88946 (+/- 0.01919)\n",
      "MAX_DEPTH:  5 N_ESTIMATORS:  90 \tAccuracy: 0.89230 (+/- 0.02274)\n",
      "MAX_DEPTH:  5 N_ESTIMATORS:  110 \tAccuracy: 0.89753 (+/- 0.01535)\n",
      "MAX_DEPTH:  5 N_ESTIMATORS:  130 \tAccuracy: 0.89594 (+/- 0.02270)\n",
      "MAX_DEPTH:  7 N_ESTIMATORS:  50 \tAccuracy: 0.95144 (+/- 0.01558)\n",
      "MAX_DEPTH:  7 N_ESTIMATORS:  70 \tAccuracy: 0.95193 (+/- 0.01233)\n",
      "MAX_DEPTH:  7 N_ESTIMATORS:  90 \tAccuracy: 0.94971 (+/- 0.01381)\n",
      "MAX_DEPTH:  7 N_ESTIMATORS:  110 \tAccuracy: 0.95666 (+/- 0.01878)\n",
      "MAX_DEPTH:  7 N_ESTIMATORS:  130 \tAccuracy: 0.95350 (+/- 0.00943)\n",
      "MAX_DEPTH:  9 N_ESTIMATORS:  50 \tAccuracy: 0.98119 (+/- 0.00732)\n",
      "MAX_DEPTH:  9 N_ESTIMATORS:  70 \tAccuracy: 0.98056 (+/- 0.00782)\n",
      "MAX_DEPTH:  9 N_ESTIMATORS:  90 \tAccuracy: 0.98261 (+/- 0.00520)\n",
      "MAX_DEPTH:  9 N_ESTIMATORS:  110 \tAccuracy: 0.98024 (+/- 0.00857)\n",
      "MAX_DEPTH:  9 N_ESTIMATORS:  130 \tAccuracy: 0.98167 (+/- 0.00711)\n",
      "MAX_DEPTH:  11 N_ESTIMATORS:  50 \tAccuracy: 0.98752 (+/- 0.00701)\n",
      "MAX_DEPTH:  11 N_ESTIMATORS:  70 \tAccuracy: 0.98830 (+/- 0.00452)\n",
      "MAX_DEPTH:  11 N_ESTIMATORS:  90 \tAccuracy: 0.98957 (+/- 0.00371)\n",
      "MAX_DEPTH:  11 N_ESTIMATORS:  110 \tAccuracy: 0.98847 (+/- 0.00651)\n",
      "MAX_DEPTH:  11 N_ESTIMATORS:  130 \tAccuracy: 0.98909 (+/- 0.00431)\n",
      "MAX_DEPTH:  13 N_ESTIMATORS:  50 \tAccuracy: 0.99115 (+/- 0.00512)\n",
      "MAX_DEPTH:  13 N_ESTIMATORS:  70 \tAccuracy: 0.99020 (+/- 0.00518)\n",
      "MAX_DEPTH:  13 N_ESTIMATORS:  90 \tAccuracy: 0.99020 (+/- 0.00490)\n",
      "MAX_DEPTH:  13 N_ESTIMATORS:  110 \tAccuracy: 0.99178 (+/- 0.00469)\n",
      "MAX_DEPTH:  13 N_ESTIMATORS:  130 \tAccuracy: 0.99116 (+/- 0.00770)\n"
     ]
    }
   ],
   "source": [
    "for MAX_DEPTH in range(5, 15, 2):\n",
    "    for N_ESTIMATORS in range(50, 150, 20):\n",
    "        RF = RandomForestClassifier(class_weight='balanced', n_jobs=-1, max_depth=MAX_DEPTH, n_estimators=N_ESTIMATORS)\n",
    "        scores = cross_val_score(RF, X_train_tmp, y_train_flattened, cv=7)\n",
    "        print 'MAX_DEPTH: ', MAX_DEPTH, 'N_ESTIMATORS: ', N_ESTIMATORS, (\"\\tAccuracy: %0.5f (+/- %0.5f)\" % (scores.mean(), scores.std() * 2))"
   ]
  },
  {
   "cell_type": "code",
   "execution_count": 61,
   "metadata": {},
   "outputs": [
    {
     "name": "stdout",
     "output_type": "stream",
     "text": [
      "Feature:  X_train_mfcc \tAccuracy: 0.97596 (+/- 0.01146)\n",
      "Feature:  X_train_mfcc_std \tAccuracy: 0.66037 (+/- 0.03135)\n",
      "Feature:  X_train_chroma \tAccuracy: 0.65420 (+/- 0.03141)\n",
      "Feature:  X_train_chroma_std \tAccuracy: 0.65562 (+/- 0.02904)\n",
      "Feature:  X_train_mel \tAccuracy: 0.67538 (+/- 0.03506)\n",
      "Feature:  X_train_mel_std \tAccuracy: 0.65135 (+/- 0.02813)\n",
      "Feature:  X_train_contrast \tAccuracy: 0.93690 (+/- 0.02272)\n",
      "Feature:  X_train_contrast_std \tAccuracy: 0.92425 (+/- 0.01627)\n",
      "Feature:  X_train_tonnetz \tAccuracy: 0.73119 (+/- 0.04246)\n",
      "Feature:  X_train_tonnetz_std \tAccuracy: 0.49847 (+/- 0.03154)\n"
     ]
    }
   ],
   "source": [
    "RF = RandomForestClassifier(class_weight='balanced', n_jobs=-1, max_depth=10, n_estimators=100)\n",
    "features = [X_train_mfcc, X_train_mfcc_std, X_train_chroma, X_train_chroma_std, X_train_mel, X_train_mel_std, X_train_contrast, X_train_contrast_std, X_train_tonnetz, X_train_tonnetz_std]\n",
    "feature_names = ['X_train_mfcc', 'X_train_mfcc_std', 'X_train_chroma', 'X_train_chroma_std', 'X_train_mel', 'X_train_mel_std', 'X_train_contrast', 'X_train_contrast_std', 'X_train_tonnetz', 'X_train_tonnetz_std']\n",
    "\n",
    "for i in range(1, len(features)):\n",
    "    a = itertools.combinations(range(3), i)\n",
    "    X_train_tmp = np.hstack([X_train_mfcc, X_train_contrast, X_train_contrast_std])\n",
    "    scores = cross_val_score(RF, features[i], y_train_flattened, cv=7)\n",
    "    print 'Feature: ', feature_names[i], (\"\\tAccuracy: %0.5f (+/- %0.5f)\" % (scores.mean(), scores.std() * 2))"
   ]
  },
  {
   "cell_type": "code",
   "execution_count": 88,
   "metadata": {},
   "outputs": [
    {
     "name": "stdout",
     "output_type": "stream",
     "text": [
      " Feature:  X_train_mfcc X_train_mfcc_std \tAccuracy: 0.95857 (+/- 0.01397)\n",
      "Feature:  X_train_mfcc X_train_chroma \tAccuracy: 0.97186 (+/- 0.01225)\n",
      "Feature:  X_train_mfcc X_train_chroma_std \tAccuracy: 0.97518 (+/- 0.00965)\n",
      "Feature:  X_train_mfcc X_train_mel \tAccuracy: 0.97549 (+/- 0.01343)\n",
      "Feature:  X_train_mfcc X_train_mel_std \tAccuracy: 0.97280 (+/- 0.01211)\n",
      "Feature:  X_train_mfcc X_train_contrast \tAccuracy: 0.98150 (+/- 0.00581)\n",
      "Feature:  X_train_mfcc X_train_contrast_std \tAccuracy: 0.97028 (+/- 0.00805)\n",
      "Feature:  X_train_mfcc X_train_tonnetz \tAccuracy: 0.97612 (+/- 0.00680)\n",
      "Feature:  X_train_mfcc X_train_tonnetz_std \tAccuracy: 0.97358 (+/- 0.01624)\n",
      "Feature:  X_train_mfcc_std X_train_chroma \tAccuracy: 0.75525 (+/- 0.02485)\n",
      "Feature:  X_train_mfcc_std X_train_chroma_std \tAccuracy: 0.76047 (+/- 0.02600)\n",
      "Feature:  X_train_mfcc_std X_train_mel \tAccuracy: 0.76772 (+/- 0.03961)\n",
      "Feature:  X_train_mfcc_std X_train_mel_std \tAccuracy: 0.75776 (+/- 0.02666)\n",
      "Feature:  X_train_mfcc_std X_train_contrast \tAccuracy: 0.96759 (+/- 0.01287)\n",
      "Feature:  X_train_mfcc_std X_train_contrast_std \tAccuracy: 0.92393 (+/- 0.02194)\n",
      "Feature:  X_train_mfcc_std X_train_tonnetz \tAccuracy: 0.80867 (+/- 0.03131)\n",
      "Feature:  X_train_mfcc_std X_train_tonnetz_std \tAccuracy: 0.69011 (+/- 0.02850)\n",
      "Feature:  X_train_chroma X_train_chroma_std \tAccuracy: 0.65279 (+/- 0.03042)\n",
      "Feature:  X_train_chroma X_train_mel \tAccuracy: 0.78890 (+/- 0.03457)\n",
      "Feature:  X_train_chroma X_train_mel_std \tAccuracy: 0.76774 (+/- 0.01725)\n",
      "Feature:  X_train_chroma X_train_contrast \tAccuracy: 0.95445 (+/- 0.01449)\n",
      "Feature:  X_train_chroma X_train_contrast_std \tAccuracy: 0.93310 (+/- 0.02146)\n",
      "Feature:  X_train_chroma X_train_tonnetz \tAccuracy: 0.81816 (+/- 0.02841)\n",
      "Feature:  X_train_chroma X_train_tonnetz_std \tAccuracy: 0.68850 (+/- 0.03906)\n",
      "Feature:  X_train_chroma_std X_train_mel \tAccuracy: 0.78399 (+/- 0.03868)\n",
      "Feature:  X_train_chroma_std X_train_mel_std \tAccuracy: 0.76852 (+/- 0.02375)\n",
      "Feature:  X_train_chroma_std X_train_contrast \tAccuracy: 0.95477 (+/- 0.01941)\n",
      "Feature:  X_train_chroma_std X_train_contrast_std \tAccuracy: 0.92852 (+/- 0.01952)\n",
      "Feature:  X_train_chroma_std X_train_tonnetz \tAccuracy: 0.81690 (+/- 0.02741)\n",
      "Feature:  X_train_chroma_std X_train_tonnetz_std \tAccuracy: 0.69105 (+/- 0.02879)\n",
      "Feature:  X_train_mel X_train_mel_std \tAccuracy: 0.78179 (+/- 0.02613)\n",
      "Feature:  X_train_mel X_train_contrast \tAccuracy: 0.96742 (+/- 0.01629)\n",
      "Feature:  X_train_mel X_train_contrast_std \tAccuracy: 0.93342 (+/- 0.01995)\n",
      "Feature:  X_train_mel X_train_tonnetz \tAccuracy: 0.84391 (+/- 0.03801)\n",
      "Feature:  X_train_mel X_train_tonnetz_std \tAccuracy: 0.74448 (+/- 0.02606)\n",
      "Feature:  X_train_mel_std X_train_contrast \tAccuracy: 0.98151 (+/- 0.00785)\n",
      "Feature:  X_train_mel_std X_train_contrast_std \tAccuracy: 0.93769 (+/- 0.02059)\n",
      "Feature:  X_train_mel_std X_train_tonnetz \tAccuracy: 0.79853 (+/- 0.03575)\n",
      "Feature:  X_train_mel_std X_train_tonnetz_std \tAccuracy: 0.69595 (+/- 0.03281)\n",
      "Feature:  X_train_contrast X_train_contrast_std \tAccuracy: 0.97122 (+/- 0.01175)\n",
      "Feature:  X_train_contrast X_train_tonnetz \tAccuracy: 0.97058 (+/- 0.01314)\n",
      "Feature:  X_train_contrast X_train_tonnetz_std \tAccuracy: 0.93595 (+/- 0.02051)\n",
      "Feature:  X_train_contrast_std X_train_tonnetz \tAccuracy: 0.94022 (+/- 0.02007)\n",
      "Feature:  X_train_contrast_std X_train_tonnetz_std \tAccuracy: 0.92789 (+/- 0.02119)\n",
      "Feature:  X_train_tonnetz X_train_tonnetz_std \tAccuracy: 0.77609 (+/- 0.03888)\n"
     ]
    }
   ],
   "source": [
    "for i, j in list(itertools.combinations(range(len(features)), 2)):\n",
    "    X_train_tmp = np.hstack([features[i], features[j]])\n",
    "    scores = cross_val_score(RF, X_train_tmp, y_train_flattened, cv=7)\n",
    "    print 'Feature: ', feature_names[i], feature_names[j], (\"\\tAccuracy: %0.5f (+/- %0.5f)\" % (scores.mean(), scores.std() * 2))"
   ]
  },
  {
   "cell_type": "code",
   "execution_count": null,
   "metadata": {},
   "outputs": [],
   "source": [
    "for i, j, k in list(itertools.combinations(range(len(features)), 3)):\n",
    "    X_train_tmp = np.hstack([features[i], features[j], features[k]])\n",
    "    scores = cross_val_score(RF, X_train_tmp, y_train_flattened, cv=7)\n",
    "    print 'Feature: ', feature_names[i], feature_names[j], feature_names[k], (\"\\tAccuracy: %0.5f (+/- %0.5f)\" % (scores.mean(), scores.std() * 2))"
   ]
  },
  {
   "cell_type": "code",
   "execution_count": 64,
   "metadata": {},
   "outputs": [],
   "source": [
    "X_train_tmp = np.hstack([X_train_mfcc, X_train_contrast, X_train_contrast_std])\n",
    "X_test_tmp = np.hstack([X_test_mfcc, X_test_contrast, X_test_contrast_std])"
   ]
  },
  {
   "cell_type": "code",
   "execution_count": 65,
   "metadata": {},
   "outputs": [],
   "source": [
    "RF = RandomForestClassifier(class_weight='balanced', n_jobs=-1, max_depth=10, n_estimators=100)"
   ]
  },
  {
   "cell_type": "code",
   "execution_count": 66,
   "metadata": {},
   "outputs": [
    {
     "name": "stderr",
     "output_type": "stream",
     "text": [
      "c:\\python27\\lib\\site-packages\\ipykernel_launcher.py:1: DataConversionWarning: A column-vector y was passed when a 1d array was expected. Please change the shape of y to (n_samples,), for example using ravel().\n",
      "  \"\"\"Entry point for launching an IPython kernel.\n"
     ]
    },
    {
     "data": {
      "text/plain": [
       "RandomForestClassifier(bootstrap=True, class_weight='balanced',\n",
       "            criterion='gini', max_depth=10, max_features='auto',\n",
       "            max_leaf_nodes=None, min_impurity_decrease=0.0,\n",
       "            min_impurity_split=None, min_samples_leaf=1,\n",
       "            min_samples_split=2, min_weight_fraction_leaf=0.0,\n",
       "            n_estimators=100, n_jobs=-1, oob_score=False,\n",
       "            random_state=None, verbose=0, warm_start=False)"
      ]
     },
     "execution_count": 66,
     "metadata": {},
     "output_type": "execute_result"
    }
   ],
   "source": [
    "RF.fit(X_train_tmp, y_train)"
   ]
  },
  {
   "cell_type": "code",
   "execution_count": 67,
   "metadata": {},
   "outputs": [],
   "source": [
    "y_hat_rf = RF.predict(X_test_tmp)"
   ]
  },
  {
   "cell_type": "code",
   "execution_count": 68,
   "metadata": {},
   "outputs": [],
   "source": [
    "result = np.vstack((range(len(y_hat)), y_hat_rf)).T\n",
    "df = pd.DataFrame(result)\n",
    "df = df.astype(int)\n",
    "df.to_csv('random_forest_result.csv', index=False, header=['Id', 'Prediction'])"
   ]
  },
  {
   "cell_type": "markdown",
   "metadata": {},
   "source": [
    "### KNN\n",
    "\n"
   ]
  },
  {
   "cell_type": "code",
   "execution_count": 56,
   "metadata": {},
   "outputs": [
    {
     "name": "stdout",
     "output_type": "stream",
     "text": [
      "Neighbors: 1\tAccuracy: 0.91303 (+/- 0.01706)\n",
      "Neighbors: 2\tAccuracy: 0.88678 (+/- 0.02045)\n",
      "Neighbors: 3\tAccuracy: 0.89453 (+/- 0.01697)\n",
      "Neighbors: 4\tAccuracy: 0.88489 (+/- 0.01932)\n",
      "Neighbors: 5\tAccuracy: 0.88331 (+/- 0.02022)\n"
     ]
    }
   ],
   "source": [
    "for i in range(1, 6):\n",
    "    KNN = KNeighborsClassifier(n_neighbors=i, algorithm='brute', n_jobs=-1)\n",
    "    scores = cross_val_score(KNN, X_train_tmp, y_train_flattened)\n",
    "    print 'Neighbors: ' + str(i) + ('\\tAccuracy: %0.5f (+/- %0.5f)' % (scores.mean(), scores.std() * 2))"
   ]
  },
  {
   "cell_type": "code",
   "execution_count": 89,
   "metadata": {},
   "outputs": [],
   "source": [
    "KNN = KNeighborsClassifier(n_neighbors=1, algorithm='brute', n_jobs=-1)"
   ]
  },
  {
   "cell_type": "code",
   "execution_count": 94,
   "metadata": {},
   "outputs": [],
   "source": [
    "X_train_tmp = np.hstack([X_train_mfcc, X_train_mel])\n",
    "X_test_tmp = np.hstack([X_test_mfcc, X_test_mel])"
   ]
  },
  {
   "cell_type": "code",
   "execution_count": 95,
   "metadata": {},
   "outputs": [
    {
     "data": {
      "text/plain": [
       "KNeighborsClassifier(algorithm='brute', leaf_size=30, metric='minkowski',\n",
       "           metric_params=None, n_jobs=-1, n_neighbors=1, p=2,\n",
       "           weights='uniform')"
      ]
     },
     "execution_count": 95,
     "metadata": {},
     "output_type": "execute_result"
    }
   ],
   "source": [
    "KNN.fit(X_train_tmp, y_train_flattened)"
   ]
  },
  {
   "cell_type": "code",
   "execution_count": 96,
   "metadata": {},
   "outputs": [],
   "source": [
    "y_hat_knn = KNN.predict(X_test_tmp)"
   ]
  },
  {
   "cell_type": "code",
   "execution_count": 97,
   "metadata": {},
   "outputs": [],
   "source": [
    "result = np.vstack((range(len(y_hat)), y_hat_knn)).T\n",
    "df = pd.DataFrame(result)\n",
    "df = df.astype(int)\n",
    "df.to_csv('knn_result.csv', index=False, header=['Id', 'Prediction'])"
   ]
  },
  {
   "cell_type": "markdown",
   "metadata": {},
   "source": [
    "### KNN Classes"
   ]
  },
  {
   "cell_type": "code",
   "execution_count": 98,
   "metadata": {},
   "outputs": [],
   "source": [
    "KNN = KNeighborsClassifier(n_neighbors=3, algorithm='brute', n_jobs=-1)"
   ]
  },
  {
   "cell_type": "code",
   "execution_count": 99,
   "metadata": {},
   "outputs": [],
   "source": [
    "X_train_tmp = np.hstack([X_train_mfcc, X_train_mfcc_std])\n",
    "X_test_tmp = np.hstack([X_test_mfcc, X_test_mfcc_std])"
   ]
  },
  {
   "cell_type": "code",
   "execution_count": 100,
   "metadata": {},
   "outputs": [
    {
     "data": {
      "text/plain": [
       "KNeighborsClassifier(algorithm='brute', leaf_size=30, metric='minkowski',\n",
       "           metric_params=None, n_jobs=-1, n_neighbors=3, p=2,\n",
       "           weights='uniform')"
      ]
     },
     "execution_count": 100,
     "metadata": {},
     "output_type": "execute_result"
    }
   ],
   "source": [
    "KNN.fit(X_train_tmp, y_train_flattened)"
   ]
  },
  {
   "cell_type": "code",
   "execution_count": 108,
   "metadata": {},
   "outputs": [
    {
     "data": {
      "text/plain": [
       "0.987193675889328"
      ]
     },
     "execution_count": 108,
     "metadata": {},
     "output_type": "execute_result"
    }
   ],
   "source": [
    "KNN.score(X_train_tmp, y_train_flattened)"
   ]
  },
  {
   "cell_type": "code",
   "execution_count": 139,
   "metadata": {},
   "outputs": [],
   "source": [
    "y_hat = KNN.predict(X_train_tmp)"
   ]
  },
  {
   "cell_type": "code",
   "execution_count": 145,
   "metadata": {},
   "outputs": [
    {
     "data": {
      "text/plain": [
       "<BarContainer object of 10 artists>"
      ]
     },
     "execution_count": 145,
     "metadata": {},
     "output_type": "execute_result"
    },
    {
     "data": {
      "image/png": "[encoded data removed]",
      "text/plain": [
       "<Figure size 432x288 with 1 Axes>"
      ]
     },
     "metadata": {},
     "output_type": "display_data"
    }
   ],
   "source": [
    "diff = 1 - (y_train_flattened==y_hat).astype(int)\n",
    "wrong_labels = np.multiply(diff, (y_train_flattened+1))\n",
    "unique, counts = np.unique(wrong_labels, return_counts=True)\n",
    "wrong_label_counts = dict(zip(unique, counts))\n",
    "del wrong_label_counts[0]\n",
    "wrong_label_counts\n",
    "plt.bar(wrong_label_counts.keys(), wrong_label_counts.values())"
   ]
  },
  {
   "cell_type": "code",
   "execution_count": 146,
   "metadata": {},
   "outputs": [
    {
     "data": {
      "text/plain": [
       "<BarContainer object of 10 artists>"
      ]
     },
     "execution_count": 146,
     "metadata": {},
     "output_type": "execute_result"
    },
    {
     "data": {
      "image/png": "[encoded data removed]",
      "text/plain": [
       "<Figure size 432x288 with 1 Axes>"
      ]
     },
     "metadata": {},
     "output_type": "display_data"
    }
   ],
   "source": [
    "unique, counts = np.unique(y_train_flattened+1, return_counts=True)\n",
    "label_counts = dict(zip(unique, counts))\n",
    "label_counts\n",
    "plt.bar(label_counts.keys(), label_counts.values())"
   ]
  },
  {
   "cell_type": "code",
   "execution_count": 147,
   "metadata": {},
   "outputs": [],
   "source": [
    "KNN = KNeighborsClassifier(n_neighbors=5, algorithm='brute', n_jobs=-1)\n",
    "KNN.fit(X_train_tmp, y_train_flattened)\n",
    "y_hat = KNN.predict(X_train_tmp)"
   ]
  },
  {
   "cell_type": "code",
   "execution_count": 148,
   "metadata": {},
   "outputs": [
    {
     "data": {
      "text/plain": [
       "<BarContainer object of 10 artists>"
      ]
     },
     "execution_count": 148,
     "metadata": {},
     "output_type": "execute_result"
    },
    {
     "data": {
      "image/png": "[encoded data removed]",
      "text/plain": [
       "<Figure size 432x288 with 1 Axes>"
      ]
     },
     "metadata": {},
     "output_type": "display_data"
    }
   ],
   "source": [
    "diff = 1 - (y_train_flattened==y_hat).astype(int)\n",
    "wrong_labels = np.multiply(diff, (y_train_flattened+1))\n",
    "unique, counts = np.unique(wrong_labels, return_counts=True)\n",
    "wrong_label_counts = dict(zip(unique, counts))\n",
    "del wrong_label_counts[0]\n",
    "wrong_label_counts\n",
    "plt.bar(wrong_label_counts.keys(), wrong_label_counts.values())"
   ]
  }
 ],
 "metadata": {
  "kernelspec": {
   "display_name": "Python 2",
   "language": "python",
   "name": "python2"
  },
  "language_info": {
   "codemirror_mode": {
    "name": "ipython",
    "version": 2
   },
   "file_extension": ".py",
   "mimetype": "text/x-python",
   "name": "python",
   "nbconvert_exporter": "python",
   "pygments_lexer": "ipython2",
   "version": "2.7.14"
  }
 },
 "nbformat": 4,
 "nbformat_minor": 2
}
